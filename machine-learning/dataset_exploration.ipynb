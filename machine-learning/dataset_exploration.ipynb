{
 "cells": [
  {
   "cell_type": "markdown",
   "id": "a829bdc3",
   "metadata": {},
   "source": [
    "Link dos Datasets: https://www.kaggle.com/datasets/mohamedbakhet/amazon-books-reviews"
   ]
  },
  {
   "cell_type": "code",
   "execution_count": 1,
   "id": "06818742",
   "metadata": {},
   "outputs": [
    {
     "name": "stderr",
     "output_type": "stream",
     "text": [
      "Matplotlib is building the font cache; this may take a moment.\n"
     ]
    }
   ],
   "source": [
    "import pandas as pd\n",
    "import numpy as np\n",
    "import chardet\n",
    "import seaborn as sns\n",
    "import matplotlib.pyplot as plt"
   ]
  },
  {
   "cell_type": "code",
   "execution_count": 2,
   "id": "ecd3b0a4",
   "metadata": {},
   "outputs": [
    {
     "data": {
      "text/html": [
       "<div>\n",
       "<style scoped>\n",
       "    .dataframe tbody tr th:only-of-type {\n",
       "        vertical-align: middle;\n",
       "    }\n",
       "\n",
       "    .dataframe tbody tr th {\n",
       "        vertical-align: top;\n",
       "    }\n",
       "\n",
       "    .dataframe thead th {\n",
       "        text-align: right;\n",
       "    }\n",
       "</style>\n",
       "<table border=\"1\" class=\"dataframe\">\n",
       "  <thead>\n",
       "    <tr style=\"text-align: right;\">\n",
       "      <th></th>\n",
       "      <th>Title</th>\n",
       "      <th>description</th>\n",
       "      <th>authors</th>\n",
       "      <th>image</th>\n",
       "      <th>previewLink</th>\n",
       "      <th>publisher</th>\n",
       "      <th>publishedDate</th>\n",
       "      <th>infoLink</th>\n",
       "      <th>categories</th>\n",
       "      <th>ratingsCount</th>\n",
       "    </tr>\n",
       "  </thead>\n",
       "  <tbody>\n",
       "    <tr>\n",
       "      <th>0</th>\n",
       "      <td>Its Only Art If Its Well Hung!</td>\n",
       "      <td>NaN</td>\n",
       "      <td>['Julie Strain']</td>\n",
       "      <td>http://books.google.com/books/content?id=DykPA...</td>\n",
       "      <td>http://books.google.nl/books?id=DykPAAAACAAJ&amp;d...</td>\n",
       "      <td>NaN</td>\n",
       "      <td>1996</td>\n",
       "      <td>http://books.google.nl/books?id=DykPAAAACAAJ&amp;d...</td>\n",
       "      <td>['Comics &amp; Graphic Novels']</td>\n",
       "      <td>NaN</td>\n",
       "    </tr>\n",
       "    <tr>\n",
       "      <th>1</th>\n",
       "      <td>Dr. Seuss: American Icon</td>\n",
       "      <td>Philip Nel takes a fascinating look into the k...</td>\n",
       "      <td>['Philip Nel']</td>\n",
       "      <td>http://books.google.com/books/content?id=IjvHQ...</td>\n",
       "      <td>http://books.google.nl/books?id=IjvHQsCn_pgC&amp;p...</td>\n",
       "      <td>A&amp;C Black</td>\n",
       "      <td>2005-01-01</td>\n",
       "      <td>http://books.google.nl/books?id=IjvHQsCn_pgC&amp;d...</td>\n",
       "      <td>['Biography &amp; Autobiography']</td>\n",
       "      <td>NaN</td>\n",
       "    </tr>\n",
       "    <tr>\n",
       "      <th>2</th>\n",
       "      <td>Wonderful Worship in Smaller Churches</td>\n",
       "      <td>This resource includes twelve principles in un...</td>\n",
       "      <td>['David R. Ray']</td>\n",
       "      <td>http://books.google.com/books/content?id=2tsDA...</td>\n",
       "      <td>http://books.google.nl/books?id=2tsDAAAACAAJ&amp;d...</td>\n",
       "      <td>NaN</td>\n",
       "      <td>2000</td>\n",
       "      <td>http://books.google.nl/books?id=2tsDAAAACAAJ&amp;d...</td>\n",
       "      <td>['Religion']</td>\n",
       "      <td>NaN</td>\n",
       "    </tr>\n",
       "    <tr>\n",
       "      <th>3</th>\n",
       "      <td>Whispers of the Wicked Saints</td>\n",
       "      <td>Julia Thomas finds her life spinning out of co...</td>\n",
       "      <td>['Veronica Haddon']</td>\n",
       "      <td>http://books.google.com/books/content?id=aRSIg...</td>\n",
       "      <td>http://books.google.nl/books?id=aRSIgJlq6JwC&amp;d...</td>\n",
       "      <td>iUniverse</td>\n",
       "      <td>2005-02</td>\n",
       "      <td>http://books.google.nl/books?id=aRSIgJlq6JwC&amp;d...</td>\n",
       "      <td>['Fiction']</td>\n",
       "      <td>NaN</td>\n",
       "    </tr>\n",
       "    <tr>\n",
       "      <th>4</th>\n",
       "      <td>Nation Dance: Religion, Identity and Cultural ...</td>\n",
       "      <td>NaN</td>\n",
       "      <td>['Edward Long']</td>\n",
       "      <td>NaN</td>\n",
       "      <td>http://books.google.nl/books?id=399SPgAACAAJ&amp;d...</td>\n",
       "      <td>NaN</td>\n",
       "      <td>2003-03-01</td>\n",
       "      <td>http://books.google.nl/books?id=399SPgAACAAJ&amp;d...</td>\n",
       "      <td>NaN</td>\n",
       "      <td>NaN</td>\n",
       "    </tr>\n",
       "  </tbody>\n",
       "</table>\n",
       "</div>"
      ],
      "text/plain": [
       "                                               Title  \\\n",
       "0                     Its Only Art If Its Well Hung!   \n",
       "1                           Dr. Seuss: American Icon   \n",
       "2              Wonderful Worship in Smaller Churches   \n",
       "3                      Whispers of the Wicked Saints   \n",
       "4  Nation Dance: Religion, Identity and Cultural ...   \n",
       "\n",
       "                                         description              authors  \\\n",
       "0                                                NaN     ['Julie Strain']   \n",
       "1  Philip Nel takes a fascinating look into the k...       ['Philip Nel']   \n",
       "2  This resource includes twelve principles in un...     ['David R. Ray']   \n",
       "3  Julia Thomas finds her life spinning out of co...  ['Veronica Haddon']   \n",
       "4                                                NaN      ['Edward Long']   \n",
       "\n",
       "                                               image  \\\n",
       "0  http://books.google.com/books/content?id=DykPA...   \n",
       "1  http://books.google.com/books/content?id=IjvHQ...   \n",
       "2  http://books.google.com/books/content?id=2tsDA...   \n",
       "3  http://books.google.com/books/content?id=aRSIg...   \n",
       "4                                                NaN   \n",
       "\n",
       "                                         previewLink  publisher publishedDate  \\\n",
       "0  http://books.google.nl/books?id=DykPAAAACAAJ&d...        NaN          1996   \n",
       "1  http://books.google.nl/books?id=IjvHQsCn_pgC&p...  A&C Black    2005-01-01   \n",
       "2  http://books.google.nl/books?id=2tsDAAAACAAJ&d...        NaN          2000   \n",
       "3  http://books.google.nl/books?id=aRSIgJlq6JwC&d...  iUniverse       2005-02   \n",
       "4  http://books.google.nl/books?id=399SPgAACAAJ&d...        NaN    2003-03-01   \n",
       "\n",
       "                                            infoLink  \\\n",
       "0  http://books.google.nl/books?id=DykPAAAACAAJ&d...   \n",
       "1  http://books.google.nl/books?id=IjvHQsCn_pgC&d...   \n",
       "2  http://books.google.nl/books?id=2tsDAAAACAAJ&d...   \n",
       "3  http://books.google.nl/books?id=aRSIgJlq6JwC&d...   \n",
       "4  http://books.google.nl/books?id=399SPgAACAAJ&d...   \n",
       "\n",
       "                      categories  ratingsCount  \n",
       "0    ['Comics & Graphic Novels']           NaN  \n",
       "1  ['Biography & Autobiography']           NaN  \n",
       "2                   ['Religion']           NaN  \n",
       "3                    ['Fiction']           NaN  \n",
       "4                            NaN           NaN  "
      ]
     },
     "execution_count": 2,
     "metadata": {},
     "output_type": "execute_result"
    }
   ],
   "source": [
    "df_books = pd.read_csv('./datasets/books_data.csv')\n",
    "df_books.head()"
   ]
  },
  {
   "cell_type": "code",
   "execution_count": null,
   "id": "73bf10c2",
   "metadata": {},
   "outputs": [],
   "source": [
    "df_books = df_books[[ 'Title', 'authors', 'image', 'categories']].copy()\n",
    "df_books.rename(columns={\n",
    "    'Title': 'title'\n",
    "}, inplace=True)\n",
    "df_books"
   ]
  },
  {
   "cell_type": "code",
   "execution_count": null,
   "id": "338813bb",
   "metadata": {},
   "outputs": [],
   "source": [
    "df_ratings = pd.read_csv('./datasets/Books_rating.csv')\n",
    "df_ratings.head()"
   ]
  },
  {
   "cell_type": "code",
   "execution_count": null,
   "id": "9fbcf30b",
   "metadata": {},
   "outputs": [],
   "source": [
    "df_ratings = df_ratings[[ 'Title', 'User_id', 'review/score']].copy()\n",
    "df_ratings.rename(columns={\n",
    "    'Title': 'title',\n",
    "    'User_id' : 'user_id',\n",
    "    'review/score' : 'rating'\n",
    "    \n",
    "}, inplace=True)\n",
    "df_ratings.dropna(inplace=True)\n",
    "df_ratings\n"
   ]
  },
  {
   "cell_type": "code",
   "execution_count": null,
   "id": "0ba3182d",
   "metadata": {},
   "outputs": [],
   "source": [
    "df_ratings.describe()"
   ]
  },
  {
   "cell_type": "code",
   "execution_count": null,
   "id": "149d1aa4",
   "metadata": {},
   "outputs": [],
   "source": [
    "print(len(df_ratings['user_id'].unique()))"
   ]
  },
  {
   "cell_type": "code",
   "execution_count": null,
   "id": "864d9dd7",
   "metadata": {},
   "outputs": [],
   "source": [
    "user_rating_count = df_ratings.groupby('user_id').size().sort_values(ascending=False)\n",
    "user_rating_count"
   ]
  },
  {
   "cell_type": "code",
   "execution_count": null,
   "id": "95c6ec30",
   "metadata": {},
   "outputs": [],
   "source": [
    "book_rating_count = df_ratings.groupby('title').size().sort_values(ascending=False)\n",
    "book_rating_count"
   ]
  },
  {
   "cell_type": "code",
   "execution_count": null,
   "id": "4a5d7130",
   "metadata": {},
   "outputs": [],
   "source": [
    "while True:\n",
    "    book_rating_count = df_ratings['title'].value_counts()\n",
    "    filtered_books = book_rating_count[book_rating_count > 20].index\n",
    "    user_rating_count = df_ratings[df_ratings['title'].isin(filtered_books)]['user_id'].value_counts()\n",
    "    filtered_users = user_rating_count[user_rating_count > 20].index\n",
    "    df_ratings_filtered = df_ratings[\n",
    "        df_ratings['title'].isin(filtered_books) &\n",
    "        df_ratings['user_id'].isin(filtered_users)\n",
    "    ]\n",
    "    if len(df_ratings_filtered) == len(df_ratings):\n",
    "        break\n",
    "\n",
    "\n",
    "    df_ratings = df_ratings_filtered.copy()\n",
    "df_ratings_filtered.reset_index(drop=True, inplace=True)\n",
    "print(df_ratings_filtered)"
   ]
  },
  {
   "cell_type": "code",
   "execution_count": null,
   "id": "bfe96342",
   "metadata": {},
   "outputs": [],
   "source": [
    "user_rating_count = df_ratings.groupby('user_id').size().sort_values(ascending=False)\n",
    "user_rating_count"
   ]
  },
  {
   "cell_type": "code",
   "execution_count": null,
   "id": "009fd4ab",
   "metadata": {},
   "outputs": [],
   "source": [
    "book_rating_count = df_ratings.groupby('title').size().sort_values(ascending=False)\n",
    "book_rating_count"
   ]
  },
  {
   "cell_type": "code",
   "execution_count": null,
   "id": "6fa5b2ef",
   "metadata": {},
   "outputs": [],
   "source": [
    "sns.histplot(df_ratings['rating'], bins = 5)"
   ]
  },
  {
   "cell_type": "code",
   "execution_count": null,
   "id": "013c933a",
   "metadata": {},
   "outputs": [],
   "source": [
    "book_index = {book: idx for idx, book in enumerate(df_ratings['title'].unique())}\n",
    "book_index.get('Pride and Prejudice')"
   ]
  },
  {
   "cell_type": "code",
   "execution_count": null,
   "id": "67c509e3",
   "metadata": {},
   "outputs": [],
   "source": [
    "user_index = {user: idx for idx, user in enumerate(df_ratings['user_id'].unique())}\n",
    "user_index.get('A30TK6U7DNS82R')"
   ]
  },
  {
   "cell_type": "code",
   "execution_count": null,
   "id": "831a647e",
   "metadata": {},
   "outputs": [],
   "source": [
    "df_ratings.loc[:, 'book_index'] = df_ratings['title'].map(book_index)\n",
    "df_ratings.loc[:, 'user_index'] = df_ratings['user_id'].map(user_index)\n",
    "\n",
    "df_ratings.to_csv('/kaggle/working/processed_ratings.csv', index=False)\n",
    "\n",
    "# save books detail\n",
    "filtered_books = df_books[df_books['title'].isin(df_ratings['title'].unique())]\n",
    "filtered_books = filtered_books.merge(\n",
    "    df_ratings[['title', 'book_index']].drop_duplicates(), \n",
    "    on='title',\n",
    "    how='left'\n",
    ")\n",
    "filtered_books.to_csv('/kaggle/working/books.csv', index=False)\n",
    "\n",
    "\n",
    "print(df_ratings)"
   ]
  },
  {
   "cell_type": "code",
   "execution_count": null,
   "id": "d4cf77c2",
   "metadata": {},
   "outputs": [],
   "source": [
    "book_pivot = df_ratings.pivot_table(columns='user_index', index='book_index', values=\"rating\")\n",
    "book_pivot.head(100)"
   ]
  },
  {
   "cell_type": "code",
   "execution_count": null,
   "id": "bae3100a",
   "metadata": {},
   "outputs": [],
   "source": [
    "book_pivot.fillna(0,inplace=True)\n",
    "book_pivot.head()"
   ]
  },
  {
   "cell_type": "code",
   "execution_count": null,
   "id": "e347174c",
   "metadata": {},
   "outputs": [],
   "source": [
    "from scipy.sparse import csr_matrix\n",
    "book_sparse = csr_matrix(book_pivot)"
   ]
  },
  {
   "cell_type": "code",
   "execution_count": null,
   "id": "f4fcf150",
   "metadata": {},
   "outputs": [],
   "source": [
    "from sklearn.neighbors import NearestNeighbors\n",
    "model = NearestNeighbors(algorithm='brute')\n",
    "model.fit(book_sparse)"
   ]
  },
  {
   "cell_type": "code",
   "execution_count": null,
   "id": "f28bb994",
   "metadata": {},
   "outputs": [],
   "source": [
    "distances, suggestions = model.kneighbors(book_pivot.iloc[237, :].values.reshape(1, -1), n_neighbors=6)\n",
    "distances"
   ]
  },
  {
   "cell_type": "code",
   "execution_count": null,
   "id": "4b41a11d",
   "metadata": {},
   "outputs": [],
   "source": [
    "suggestions"
   ]
  },
  {
   "cell_type": "code",
   "execution_count": null,
   "id": "fece3332",
   "metadata": {},
   "outputs": [],
   "source": [
    "for i in range(len(suggestions)):\n",
    "  print(book_pivot.index[suggestions[i]])"
   ]
  },
  {
   "cell_type": "code",
   "execution_count": null,
   "id": "c5af9c6d",
   "metadata": {},
   "outputs": [],
   "source": [
    "book_pivot.index[3]"
   ]
  }
 ],
 "metadata": {
  "kernelspec": {
   "display_name": "venv",
   "language": "python",
   "name": "python3"
  },
  "language_info": {
   "codemirror_mode": {
    "name": "ipython",
    "version": 3
   },
   "file_extension": ".py",
   "mimetype": "text/x-python",
   "name": "python",
   "nbconvert_exporter": "python",
   "pygments_lexer": "ipython3",
   "version": "3.8.10"
  }
 },
 "nbformat": 4,
 "nbformat_minor": 5
}
