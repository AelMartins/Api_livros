{
 "cells": [
  {
   "cell_type": "markdown",
   "id": "c4b6d22f",
   "metadata": {},
   "source": [
    "> [!WARNING]\n",
    "> É recomendado criar um ambiente virtual de desenvolvimento em Python no diretório **[machine-learning](./machine-learning)**. – _Utilizamos a versão 3.8.10_:\n",
    ">\n",
    "> ```bash\n",
    "> python -m venv venv\n",
    "> ```\n",
    ">\n",
    "> **Tenha certeza de estar no diretório machine-learning**\n",
    ">\n",
    "> Para ativar o ambiente virtual em dispositivo Windows:\n",
    ">\n",
    "> ```ps1\n",
    "> venv\\Scripts\\activate\n",
    "> ```\n",
    ">\n",
    "> Para ativar o ambiente virtual em dispositivo Linux:\n",
    "> \n",
    "> ```bash\n",
    "> source venv/bin/activate\n",
    "> ```\n",
    ">\n",
    "> Para desativar o ambiente virtual:\n",
    ">\n",
    "> ```bash\n",
    "> deactivate\n",
    "> ```\n",
    ">\n",
    "> > [!NOTE]\n",
    "> > É possivel que você encontre algum problema ao ativar o ambiente devido a alguma configuração de segurança de seu sistema operacional. Leia atentamente as instruções que serão exibidas no terminal e **em último caso**, considere desativar temporariamente as políticas de segurança de execução de scripts para poder executar o comando.\n",
    "> \n",
    "> Instale as dependências através do arquivo [requirements.txt](./requirements.txt)\n",
    "> \n",
    "> ```bash\n",
    "> pip install -r requirements.txt\n",
    "> ```\n",
    ">\n",
    "> > [!NOTE]\n",
    "> > Sempre confira se o arquivo requirements.txt está presente e sempre o atualize caso adicione novas dependências com o comando:\n",
    "> >\n",
    "> > ```bash\n",
    "> > pip freeze > requirements.txt\n",
    "> > ```\n",
    "\n",
    "<br>\n",
    "\n",
    "> [!NOTE]\n",
    "> É possível qua a aplicação não reconheça os imports do Python devido a configurações do interpretador da linguagem do seu editor de código.\n",
    ">\n",
    "> Para solucionar esse problema, acesse as configurações (Settings) e as abra em formato JSON (Open Settings (JSON)) se houver a possibilidade.\n",
    ">\n",
    "> Adicione o seguinte script ajustando o caminho para o seu ambiente virtual:\n",
    ">\n",
    "> ```json\n",
    "> {\n",
    ">     // Outras configurações...\n",
    ">    \n",
    ">     // Para Windows\n",
    ">     \"python.pythonPath\": \"caminho/para/seu/venv/Scripts/python.exe\",\n",
    ">\n",
    ">     // Para Linux\n",
    ">     \"python.pythonPath\": \"caminho/para/seu/venv/bin/python\",\n",
    ">\n",
    ">     // Caminho para o diretório pai do seu ambiente virtual. No nosso caso \"machine-learning\"\n",
    ">     \"python.venvPath\": \"caminho/para/seu/venv\"\n",
    "> }\n",
    "> ```\n",
    ">\n",
    "> **Lembre-se de remover os comentários do arquivo antes de salvar as alterações.**\n",
    ">\n",
    "> Salve e reinicie o Editor.\n",
    ">\n",
    "> Altere o interpretador Python para o seu ambiente virtual (no VS Code o atalho é `Ctrl` + `Shift` + `p`)."
   ]
  },
  {
   "cell_type": "markdown",
   "id": "a829bdc3",
   "metadata": {},
   "source": [
    "Link dos Datasets: https://www.kaggle.com/datasets/mohamedbakhet/amazon-books-reviews"
   ]
  },
  {
   "cell_type": "code",
   "execution_count": 1,
   "id": "06818742",
   "metadata": {},
   "outputs": [
    {
     "name": "stderr",
     "output_type": "stream",
     "text": [
      "Matplotlib is building the font cache; this may take a moment.\n"
     ]
    }
   ],
   "source": [
    "import pandas as pd\n",
    "import numpy as np\n",
    "import chardet\n",
    "import seaborn as sns\n",
    "import matplotlib.pyplot as plt"
   ]
  },
  {
   "cell_type": "code",
   "execution_count": null,
   "id": "ecd3b0a4",
   "metadata": {},
   "outputs": [],
   "source": [
    "df_books = pd.read_csv('C:\\\\Users\\\\Pc Gamer\\\\Downloads\\\\basepi\\\\books_data.csv')\n",
    "df_books.head()"
   ]
  },
  {
   "cell_type": "code",
   "execution_count": null,
   "id": "73bf10c2",
   "metadata": {},
   "outputs": [],
   "source": [
    "df_books = df_books[[ 'Title', 'authors', 'image', 'categories']].copy()\n",
    "df_books.rename(columns={\n",
    "    'Title': 'title'\n",
    "}, inplace=True)\n",
    "df_books"
   ]
  },
  {
   "cell_type": "code",
   "execution_count": null,
   "id": "338813bb",
   "metadata": {},
   "outputs": [],
   "source": [
    "df_ratings = pd.read_csv('C:\\\\Users\\\\Pc Gamer\\\\Downloads\\\\basepi\\\\Books_rating.csv')\n",
    "df_ratings.head()"
   ]
  },
  {
   "cell_type": "code",
   "execution_count": null,
   "id": "9fbcf30b",
   "metadata": {},
   "outputs": [],
   "source": [
    "df_ratings = df_ratings[[ 'Title', 'User_id', 'review/score']].copy()\n",
    "df_ratings.rename(columns={\n",
    "    'Title': 'title',\n",
    "    'User_id' : 'user_id',\n",
    "    'review/score' : 'rating'\n",
    "    \n",
    "}, inplace=True)\n",
    "df_ratings.dropna(inplace=True)\n",
    "df_ratings\n"
   ]
  },
  {
   "cell_type": "code",
   "execution_count": null,
   "id": "0ba3182d",
   "metadata": {},
   "outputs": [],
   "source": [
    "df_ratings.describe()"
   ]
  },
  {
   "cell_type": "code",
   "execution_count": null,
   "id": "149d1aa4",
   "metadata": {},
   "outputs": [],
   "source": [
    "print(len(df_ratings['user_id'].unique()))"
   ]
  },
  {
   "cell_type": "code",
   "execution_count": null,
   "id": "864d9dd7",
   "metadata": {},
   "outputs": [],
   "source": [
    "user_rating_count = df_ratings.groupby('user_id').size().sort_values(ascending=False)\n",
    "user_rating_count"
   ]
  },
  {
   "cell_type": "code",
   "execution_count": null,
   "id": "95c6ec30",
   "metadata": {},
   "outputs": [],
   "source": [
    "book_rating_count = df_ratings.groupby('title').size().sort_values(ascending=False)\n",
    "book_rating_count"
   ]
  },
  {
   "cell_type": "code",
   "execution_count": null,
   "id": "4a5d7130",
   "metadata": {},
   "outputs": [],
   "source": [
    "while True:\n",
    "    book_rating_count = df_ratings['title'].value_counts()\n",
    "    filtered_books = book_rating_count[book_rating_count > 20].index\n",
    "    user_rating_count = df_ratings[df_ratings['title'].isin(filtered_books)]['user_id'].value_counts()\n",
    "    filtered_users = user_rating_count[user_rating_count > 20].index\n",
    "    df_ratings_filtered = df_ratings[\n",
    "        df_ratings['title'].isin(filtered_books) &\n",
    "        df_ratings['user_id'].isin(filtered_users)\n",
    "    ]\n",
    "    if len(df_ratings_filtered) == len(df_ratings):\n",
    "        break\n",
    "\n",
    "\n",
    "    df_ratings = df_ratings_filtered.copy()\n",
    "df_ratings_filtered.reset_index(drop=True, inplace=True)\n",
    "print(df_ratings_filtered)"
   ]
  },
  {
   "cell_type": "code",
   "execution_count": null,
   "id": "bfe96342",
   "metadata": {},
   "outputs": [],
   "source": [
    "user_rating_count = df_ratings.groupby('user_id').size().sort_values(ascending=False)\n",
    "user_rating_count"
   ]
  },
  {
   "cell_type": "code",
   "execution_count": null,
   "id": "009fd4ab",
   "metadata": {},
   "outputs": [],
   "source": [
    "book_rating_count = df_ratings.groupby('title').size().sort_values(ascending=False)\n",
    "book_rating_count"
   ]
  },
  {
   "cell_type": "code",
   "execution_count": null,
   "id": "6fa5b2ef",
   "metadata": {},
   "outputs": [],
   "source": [
    "sns.histplot(df_ratings['rating'], bins = 5)"
   ]
  },
  {
   "cell_type": "code",
   "execution_count": null,
   "id": "013c933a",
   "metadata": {},
   "outputs": [],
   "source": [
    "book_index = {book: idx for idx, book in enumerate(df_ratings['title'].unique())}\n",
    "book_index.get('Pride and Prejudice')"
   ]
  },
  {
   "cell_type": "code",
   "execution_count": null,
   "id": "67c509e3",
   "metadata": {},
   "outputs": [],
   "source": [
    "user_index = {user: idx for idx, user in enumerate(df_ratings['user_id'].unique())}\n",
    "user_index.get('A30TK6U7DNS82R')"
   ]
  },
  {
   "cell_type": "code",
   "execution_count": null,
   "id": "831a647e",
   "metadata": {},
   "outputs": [],
   "source": [
    "df_ratings.loc[:, 'book_index'] = df_ratings['title'].map(book_index)\n",
    "df_ratings.loc[:, 'user_index'] = df_ratings['user_id'].map(user_index)\n",
    "\n",
    "df_ratings.to_csv('/kaggle/working/processed_ratings.csv', index=False)\n",
    "\n",
    "# save books detail\n",
    "filtered_books = df_books[df_books['title'].isin(df_ratings['title'].unique())]\n",
    "filtered_books = filtered_books.merge(\n",
    "    df_ratings[['title', 'book_index']].drop_duplicates(), \n",
    "    on='title',\n",
    "    how='left'\n",
    ")\n",
    "filtered_books.to_csv('/kaggle/working/books.csv', index=False)\n",
    "\n",
    "\n",
    "print(df_ratings)"
   ]
  },
  {
   "cell_type": "code",
   "execution_count": null,
   "id": "d4cf77c2",
   "metadata": {},
   "outputs": [],
   "source": [
    "book_pivot = df_ratings.pivot_table(columns='user_index', index='book_index', values=\"rating\")\n",
    "book_pivot.head(100)"
   ]
  },
  {
   "cell_type": "code",
   "execution_count": null,
   "id": "bae3100a",
   "metadata": {},
   "outputs": [],
   "source": [
    "book_pivot.fillna(0,inplace=True)\n",
    "book_pivot.head()"
   ]
  },
  {
   "cell_type": "code",
   "execution_count": null,
   "id": "e347174c",
   "metadata": {},
   "outputs": [],
   "source": [
    "from scipy.sparse import csr_matrix\n",
    "book_sparse = csr_matrix(book_pivot)"
   ]
  },
  {
   "cell_type": "code",
   "execution_count": null,
   "id": "f4fcf150",
   "metadata": {},
   "outputs": [],
   "source": [
    "from sklearn.neighbors import NearestNeighbors\n",
    "model = NearestNeighbors(algorithm='brute')\n",
    "model.fit(book_sparse)"
   ]
  },
  {
   "cell_type": "code",
   "execution_count": null,
   "id": "f28bb994",
   "metadata": {},
   "outputs": [],
   "source": [
    "distances, suggestions = model.kneighbors(book_pivot.iloc[237, :].values.reshape(1, -1), n_neighbors=6)\n",
    "distances"
   ]
  },
  {
   "cell_type": "code",
   "execution_count": null,
   "id": "4b41a11d",
   "metadata": {},
   "outputs": [],
   "source": [
    "suggestions"
   ]
  },
  {
   "cell_type": "code",
   "execution_count": null,
   "id": "fece3332",
   "metadata": {},
   "outputs": [],
   "source": [
    "for i in range(len(suggestions)):\n",
    "  print(book_pivot.index[suggestions[i]])"
   ]
  },
  {
   "cell_type": "code",
   "execution_count": null,
   "id": "c5af9c6d",
   "metadata": {},
   "outputs": [],
   "source": [
    "book_pivot.index[3]"
   ]
  }
 ],
 "metadata": {
  "kernelspec": {
   "display_name": "venv",
   "language": "python",
   "name": "python3"
  },
  "language_info": {
   "codemirror_mode": {
    "name": "ipython",
    "version": 3
   },
   "file_extension": ".py",
   "mimetype": "text/x-python",
   "name": "python",
   "nbconvert_exporter": "python",
   "pygments_lexer": "ipython3",
   "version": "3.8.10"
  }
 },
 "nbformat": 4,
 "nbformat_minor": 5
}
