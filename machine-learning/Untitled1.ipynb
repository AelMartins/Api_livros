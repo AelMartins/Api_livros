{
 "cells": [
  {
   "cell_type": "markdown",
   "id": "c4b6d22f",
   "metadata": {},
   "source": [
    "Link dos Datasets: https://www.kaggle.com/datasets/mohamedbakhet/amazon-books-reviews"
   ]
  },
  {
   "cell_type": "code",
   "execution_count": null,
   "id": "06818742",
   "metadata": {},
   "outputs": [],
   "source": [
    "import pandas as pd\n",
    "import numpy as np\n",
    "import chardet\n",
    "import seaborn as sns\n",
    "import matplotlib.pyplot as plt"
   ]
  },
  {
   "cell_type": "code",
   "execution_count": null,
   "id": "ecd3b0a4",
   "metadata": {},
   "outputs": [],
   "source": [
    "df_books = pd.read_csv('C:\\\\Users\\\\Pc Gamer\\\\Downloads\\\\basepi\\\\books_data.csv')\n",
    "df_books.head()"
   ]
  },
  {
   "cell_type": "code",
   "execution_count": null,
   "id": "73bf10c2",
   "metadata": {},
   "outputs": [],
   "source": [
    "df_books = df_books[[ 'Title', 'authors', 'image', 'categories']].copy()\n",
    "df_books.rename(columns={\n",
    "    'Title': 'title'\n",
    "}, inplace=True)\n",
    "df_books"
   ]
  },
  {
   "cell_type": "code",
   "execution_count": null,
   "id": "338813bb",
   "metadata": {},
   "outputs": [],
   "source": [
    "df_ratings = pd.read_csv('C:\\\\Users\\\\Pc Gamer\\\\Downloads\\\\basepi\\\\Books_rating.csv')\n",
    "df_ratings.head()"
   ]
  },
  {
   "cell_type": "code",
   "execution_count": null,
   "id": "9fbcf30b",
   "metadata": {},
   "outputs": [],
   "source": [
    "df_ratings = df_ratings[[ 'Title', 'User_id', 'review/score']].copy()\n",
    "df_ratings.rename(columns={\n",
    "    'Title': 'title',\n",
    "    'User_id' : 'user_id',\n",
    "    'review/score' : 'rating'\n",
    "    \n",
    "}, inplace=True)\n",
    "df_ratings.dropna(inplace=True)\n",
    "df_ratings\n"
   ]
  },
  {
   "cell_type": "code",
   "execution_count": null,
   "id": "0ba3182d",
   "metadata": {},
   "outputs": [],
   "source": [
    "df_ratings.describe()"
   ]
  },
  {
   "cell_type": "code",
   "execution_count": null,
   "id": "149d1aa4",
   "metadata": {},
   "outputs": [],
   "source": [
    "print(len(df_ratings['user_id'].unique()))"
   ]
  },
  {
   "cell_type": "code",
   "execution_count": null,
   "id": "864d9dd7",
   "metadata": {},
   "outputs": [],
   "source": [
    "user_rating_count = df_ratings.groupby('user_id').size().sort_values(ascending=False)\n",
    "user_rating_count"
   ]
  },
  {
   "cell_type": "code",
   "execution_count": null,
   "id": "95c6ec30",
   "metadata": {},
   "outputs": [],
   "source": [
    "book_rating_count = df_ratings.groupby('title').size().sort_values(ascending=False)\n",
    "book_rating_count"
   ]
  },
  {
   "cell_type": "code",
   "execution_count": null,
   "id": "4a5d7130",
   "metadata": {},
   "outputs": [],
   "source": [
    "while True:\n",
    "    book_rating_count = df_ratings['title'].value_counts()\n",
    "    filtered_books = book_rating_count[book_rating_count > 20].index\n",
    "    user_rating_count = df_ratings[df_ratings['title'].isin(filtered_books)]['user_id'].value_counts()\n",
    "    filtered_users = user_rating_count[user_rating_count > 20].index\n",
    "    df_ratings_filtered = df_ratings[\n",
    "        df_ratings['title'].isin(filtered_books) &\n",
    "        df_ratings['user_id'].isin(filtered_users)\n",
    "    ]\n",
    "    if len(df_ratings_filtered) == len(df_ratings):\n",
    "        break\n",
    "\n",
    "\n",
    "    df_ratings = df_ratings_filtered.copy()\n",
    "df_ratings_filtered.reset_index(drop=True, inplace=True)\n",
    "print(df_ratings_filtered)"
   ]
  },
  {
   "cell_type": "code",
   "execution_count": null,
   "id": "bfe96342",
   "metadata": {},
   "outputs": [],
   "source": [
    "user_rating_count = df_ratings.groupby('user_id').size().sort_values(ascending=False)\n",
    "user_rating_count"
   ]
  },
  {
   "cell_type": "code",
   "execution_count": null,
   "id": "009fd4ab",
   "metadata": {},
   "outputs": [],
   "source": [
    "book_rating_count = df_ratings.groupby('title').size().sort_values(ascending=False)\n",
    "book_rating_count"
   ]
  },
  {
   "cell_type": "code",
   "execution_count": null,
   "id": "6fa5b2ef",
   "metadata": {},
   "outputs": [],
   "source": [
    "sns.histplot(df_ratings['rating'], bins = 5)"
   ]
  },
  {
   "cell_type": "code",
   "execution_count": null,
   "id": "013c933a",
   "metadata": {},
   "outputs": [],
   "source": [
    "book_index = {book: idx for idx, book in enumerate(df_ratings['title'].unique())}\n",
    "book_index.get('Pride and Prejudice')"
   ]
  },
  {
   "cell_type": "code",
   "execution_count": null,
   "id": "67c509e3",
   "metadata": {},
   "outputs": [],
   "source": [
    "user_index = {user: idx for idx, user in enumerate(df_ratings['user_id'].unique())}\n",
    "user_index.get('A30TK6U7DNS82R')"
   ]
  },
  {
   "cell_type": "code",
   "execution_count": null,
   "id": "831a647e",
   "metadata": {},
   "outputs": [],
   "source": [
    "df_ratings.loc[:, 'book_index'] = df_ratings['title'].map(book_index)\n",
    "df_ratings.loc[:, 'user_index'] = df_ratings['user_id'].map(user_index)\n",
    "\n",
    "df_ratings.to_csv('/kaggle/working/processed_ratings.csv', index=False)\n",
    "\n",
    "# save books detail\n",
    "filtered_books = df_books[df_books['title'].isin(df_ratings['title'].unique())]\n",
    "filtered_books = filtered_books.merge(\n",
    "    df_ratings[['title', 'book_index']].drop_duplicates(), \n",
    "    on='title',\n",
    "    how='left'\n",
    ")\n",
    "filtered_books.to_csv('/kaggle/working/books.csv', index=False)\n",
    "\n",
    "\n",
    "print(df_ratings)"
   ]
  },
  {
   "cell_type": "code",
   "execution_count": null,
   "id": "d4cf77c2",
   "metadata": {},
   "outputs": [],
   "source": [
    "book_pivot = df_ratings.pivot_table(columns='user_index', index='book_index', values=\"rating\")\n",
    "book_pivot.head(100)"
   ]
  },
  {
   "cell_type": "code",
   "execution_count": null,
   "id": "bae3100a",
   "metadata": {},
   "outputs": [],
   "source": [
    "book_pivot.fillna(0,inplace=True)\n",
    "book_pivot.head()"
   ]
  },
  {
   "cell_type": "code",
   "execution_count": null,
   "id": "e347174c",
   "metadata": {},
   "outputs": [],
   "source": [
    "from scipy.sparse import csr_matrix\n",
    "book_sparse = csr_matrix(book_pivot)"
   ]
  },
  {
   "cell_type": "code",
   "execution_count": null,
   "id": "f4fcf150",
   "metadata": {},
   "outputs": [],
   "source": [
    "from sklearn.neighbors import NearestNeighbors\n",
    "model = NearestNeighbors(algorithm='brute')\n",
    "model.fit(book_sparse)"
   ]
  },
  {
   "cell_type": "code",
   "execution_count": null,
   "id": "f28bb994",
   "metadata": {},
   "outputs": [],
   "source": [
    "distances, suggestions = model.kneighbors(book_pivot.iloc[237, :].values.reshape(1, -1), n_neighbors=6)\n",
    "distances"
   ]
  },
  {
   "cell_type": "code",
   "execution_count": null,
   "id": "4b41a11d",
   "metadata": {},
   "outputs": [],
   "source": [
    "suggestions"
   ]
  },
  {
   "cell_type": "code",
   "execution_count": null,
   "id": "fece3332",
   "metadata": {},
   "outputs": [],
   "source": [
    "for i in range(len(suggestions)):\n",
    "  print(book_pivot.index[suggestions[i]])"
   ]
  },
  {
   "cell_type": "code",
   "execution_count": null,
   "id": "c5af9c6d",
   "metadata": {},
   "outputs": [],
   "source": [
    "book_pivot.index[3]"
   ]
  }
 ],
 "metadata": {
  "kernelspec": {
   "display_name": "Python 3 (ipykernel)",
   "language": "python",
   "name": "python3"
  },
  "language_info": {
   "codemirror_mode": {
    "name": "ipython",
    "version": 3
   },
   "file_extension": ".py",
   "mimetype": "text/x-python",
   "name": "python",
   "nbconvert_exporter": "python",
   "pygments_lexer": "ipython3",
   "version": "3.9.13"
  }
 },
 "nbformat": 4,
 "nbformat_minor": 5
}
